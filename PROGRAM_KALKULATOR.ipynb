{
  "nbformat": 4,
  "nbformat_minor": 0,
  "metadata": {
    "colab": {
      "provenance": [],
      "authorship_tag": "ABX9TyNwz87bVwoz9AMwcmaddKr6",
      "include_colab_link": true
    },
    "kernelspec": {
      "name": "python3",
      "display_name": "Python 3"
    },
    "language_info": {
      "name": "python"
    }
  },
  "cells": [
    {
      "cell_type": "markdown",
      "metadata": {
        "id": "view-in-github",
        "colab_type": "text"
      },
      "source": [
        "<a href=\"https://colab.research.google.com/github/lioraesther/PROGRAM-KALKULATOR/blob/main/PROGRAM_KALKULATOR.ipynb\" target=\"_parent\"><img src=\"https://colab.research.google.com/assets/colab-badge.svg\" alt=\"Open In Colab\"/></a>"
      ]
    },
    {
      "cell_type": "code",
      "execution_count": 5,
      "metadata": {
        "colab": {
          "base_uri": "https://localhost:8080/"
        },
        "id": "9OKItTv20THQ",
        "outputId": "078c01e0-d7f3-4d44-c03e-5729f52943c9"
      },
      "outputs": [
        {
          "output_type": "stream",
          "name": "stdout",
          "text": [
            "PROGRAM KALKULATOR SEDERHANA\n",
            "Gunakan + untuk penjumlahan, - untuk pengurangan, * untuk perkalian, dan / untuk pembagian\n",
            "Ketik 'selesai' untuk keluar\n",
            "Masukkan operasi \n",
            "7=6\n",
            "Operasi tidak valid\n",
            "Masukkan operasi \n",
            "7+7\n",
            "Hasil= 14\n",
            "Masukkan operasi \n",
            "selesai\n",
            "Perhitungan selesai\n"
          ]
        }
      ],
      "source": [
        "print(\"PROGRAM KALKULATOR SEDERHANA\")\n",
        "print(\"Gunakan + untuk penjumlahan, - untuk pengurangan, * untuk perkalian, dan / untuk pembagian\")\n",
        "print(\"Ketik 'selesai' untuk keluar\")\n",
        "\n",
        "while True:\n",
        "  operasi = input(\"Masukkan operasi \\n\")\n",
        "\n",
        "  if operasi.lower() == \"selesai\":\n",
        "    print(\"Perhitungan selesai\")\n",
        "    break\n",
        "\n",
        "  try:\n",
        "    hasil = eval(operasi)\n",
        "    print(\"Hasil=\", hasil)\n",
        "  except:\n",
        "    print(\"Operasi tidak valid\")"
      ]
    }
  ]
}